{
  "nbformat": 4,
  "nbformat_minor": 0,
  "metadata": {
    "coursera": {
      "course_slug": "introduction-tensorflow",
      "graded_item_id": "ml06H",
      "launcher_item_id": "hQF8A"
    },
    "kernelspec": {
      "display_name": "Python 3",
      "language": "python",
      "name": "python3"
    },
    "language_info": {
      "codemirror_mode": {
        "name": "ipython",
        "version": 3
      },
      "file_extension": ".py",
      "mimetype": "text/x-python",
      "name": "python",
      "nbconvert_exporter": "python",
      "pygments_lexer": "ipython3",
      "version": "3.6.8"
    },
    "colab": {
      "name": "Excercise-3-Question.ipynb",
      "provenance": [],
      "include_colab_link": true
    }
  },
  "cells": [
    {
      "cell_type": "markdown",
      "metadata": {
        "id": "view-in-github",
        "colab_type": "text"
      },
      "source": [
        "<a href=\"https://colab.research.google.com/github/deneifer/AI/blob/main/Excercise-3-HandWritting_Conv.ipynb\" target=\"_parent\"><img src=\"https://colab.research.google.com/assets/colab-badge.svg\" alt=\"Open In Colab\"/></a>"
      ]
    },
    {
      "cell_type": "markdown",
      "metadata": {
        "id": "iQjHqsmTAVLU"
      },
      "source": [
        "## Упражнение 3\n",
        "вы уже знаете, как улучшить Fashion MNIST, используя Convolutions. Теперь посмотрите, можете ли вы улучшить MNIST с точностью до 99,8% или более, используя только один сверточный слой и один MaxPooling 2D. Вам надо будет остановить процесс обучения, как только точность превысит это значение. Это должно произойти менее чем за 20 эпох, поэтому можно точно указать количество эпох для обучения, но ваше обучение должно закончиться, как только accuracy достигнет 99,8%. Если это не произойдет, то вам нужно будет изменить дизайн ваших слоев.\n",
        "\n",
        "Начало кода уже написано - вы должны закончить код\n",
        "\n",
        "Когда достигнута точность 99,8%, надо распечатать строку «достигнута точность 99,8%, поэтому обучение прервано!»"
      ]
    },
    {
      "cell_type": "code",
      "metadata": {
        "id": "NHKVudseU5Vk"
      },
      "source": [
        "import tensorflow as tf\n"
      ],
      "execution_count": 1,
      "outputs": []
    },
    {
      "cell_type": "code",
      "metadata": {
        "id": "tCtEvQtcU5Vr",
        "outputId": "7f694f8d-1a6a-4db8-b8f3-a33d2c40950f",
        "colab": {
          "base_uri": "https://localhost:8080/"
        }
      },
      "source": [
        "# Ваш код будет здесь\n",
        "\n",
        "# Ваш код закончится здесь\n",
        "\n",
        "mnist = tf.keras.datasets.mnist\n",
        "(training_images, training_labels), (test_images, test_labels) = mnist.load_data()\n",
        "\n",
        "# Ваш код будет здесь\n",
        "training_images, test_images = training_images / 255.0, test_images / 255.0\n",
        "\n",
        "class myCallback(tf.keras.callbacks.Callback):\n",
        "    def on_epoch_end(self, epoch, logs={}):\n",
        "        if logs.get('accuracy') >= 0.998:\n",
        "            print(\"\\nДостигнута точность 99,8%, поэтому обучение прервано!\")\n",
        "            self.model.stop_training = True\n",
        "\n",
        "callbacks = myCallback()\n",
        "\n",
        "# Reshape the data and add Convolutional and Pooling layers\n",
        "training_images = training_images.reshape(60000, 28, 28, 1)\n",
        "test_images = test_images.reshape(10000, 28, 28, 1)\n",
        "\n",
        "# Ваш код закончится здесь\n",
        "\n",
        "model = tf.keras.models.Sequential([\n",
        "        # Ваш код будет здесь\n",
        "    tf.keras.layers.Conv2D(32, (3,3), activation='relu', input_shape=(28, 28, 1)),\n",
        "    tf.keras.layers.MaxPooling2D(2, 2),\n",
        "    tf.keras.layers.Flatten(),\n",
        "    tf.keras.layers.Dense(128, activation='relu'),\n",
        "    tf.keras.layers.Dense(10, activation='softmax')\n",
        "\n",
        "        # Ваш код закончится здесь\n",
        "])\n",
        "\n",
        "model.compile(optimizer='adam', loss='sparse_categorical_crossentropy', metrics=['accuracy'])\n",
        "# model fitting\n",
        "history = model.fit(\n",
        "    # Ваш код будет здесь\n",
        "    training_images, training_labels, epochs=20, callbacks=[callbacks])\n",
        "    # Ваш код закончится здесь\n",
        "\n",
        "# model fitting\n",
        "print(history.epoch, history.history['accuracy'][-1])\n"
      ],
      "execution_count": 2,
      "outputs": [
        {
          "output_type": "stream",
          "name": "stdout",
          "text": [
            "Downloading data from https://storage.googleapis.com/tensorflow/tf-keras-datasets/mnist.npz\n",
            "11490434/11490434 [==============================] - 0s 0us/step\n",
            "Epoch 1/20\n",
            "1875/1875 [==============================] - 41s 21ms/step - loss: 0.1470 - accuracy: 0.9555\n",
            "Epoch 2/20\n",
            "1875/1875 [==============================] - 38s 20ms/step - loss: 0.0495 - accuracy: 0.9844\n",
            "Epoch 3/20\n",
            "1875/1875 [==============================] - 39s 21ms/step - loss: 0.0313 - accuracy: 0.9903\n",
            "Epoch 4/20\n",
            "1875/1875 [==============================] - 38s 20ms/step - loss: 0.0214 - accuracy: 0.9930\n",
            "Epoch 5/20\n",
            "1875/1875 [==============================] - 37s 20ms/step - loss: 0.0133 - accuracy: 0.9956\n",
            "Epoch 6/20\n",
            "1875/1875 [==============================] - 38s 20ms/step - loss: 0.0105 - accuracy: 0.9963\n",
            "Epoch 7/20\n",
            "1875/1875 [==============================] - 38s 20ms/step - loss: 0.0081 - accuracy: 0.9973\n",
            "Epoch 8/20\n",
            "1875/1875 [==============================] - 40s 22ms/step - loss: 0.0062 - accuracy: 0.9979\n",
            "Epoch 9/20\n",
            "1873/1875 [============================>.] - ETA: 0s - loss: 0.0053 - accuracy: 0.9982\n",
            "Достигнута точность 99,8%, поэтому обучение прервано!\n",
            "1875/1875 [==============================] - 39s 21ms/step - loss: 0.0053 - accuracy: 0.9982\n",
            "[0, 1, 2, 3, 4, 5, 6, 7, 8] 0.998199999332428\n"
          ]
        }
      ]
    }
  ]
}